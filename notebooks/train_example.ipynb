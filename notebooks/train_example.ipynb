{
 "cells": [
  {
   "cell_type": "markdown",
   "metadata": {},
   "source": [
    "# Train from a notebook\n",
    "\n",
    "This notebook demonstrates how to run the training script from within a Jupyter environment. This is useful for interactive development and debugging."
   ]
  },
  {
   "cell_type": "code",
   "execution_count": null,
   "metadata": {},
   "outputs": [],
   "source": [
    "from pathlib import Path\n",
    "import omegaconf\n",
    "from joycaption_beta_one.finetuning.train_accelerate import Config, run_training"
   ]
  },
  {
   "cell_type": "code",
   "execution_count": null,
   "metadata": {},
   "outputs": [],
   "source": [
    "# Configure your training run.\n",
    "# You can override any of the default values in the Config object.\n",
    "config = Config(\n",
    "    output_dir=Path(\"checkpoints_notebook\"),\n",
    "    # wandb_project=\"my-notebook-runs\",  # uncomment to use wandb\n",
    "    device_batch_size=1,\n",
    "    batch_size=8,\n",
    "    learning_rate=5e-5,\n",
    "    max_samples=1000, # A smaller value for a quick test run\n",
    "    save_every=500,\n",
    "    test_every=500,\n",
    "    # IMPORTANT: Make sure to set `dataset` and `images_path` to your actual data locations.\n",
    "    dataset=\"/path/to/your/dataset.json\",\n",
    "    images_path=Path(\"/path/to/your/images\"),\n",
    ")"
   ]
  },
  {
   "cell_type": "code",
   "execution_count": null,
   "metadata": {},
   "outputs": [],
   "source": [
    "# The training function expects an OmegaConf object.\n",
    "structured_config = omegaconf.OmegaConf.structured(config)"
   ]
  },
  {
   "cell_type": "code",
   "execution_count": null,
   "metadata": {},
   "outputs": [],
   "source": [
    "# This will start the training process.\n",
    "# Note: This requires a GPU and will take a significant amount of time to run.\n",
    "run_training(structured_config)"
   ]
  }
 ],
 "metadata": {
  "kernelspec": {
   "display_name": "Python 3 (ipykernel)",
   "language": "python",
   "name": "python3"
  },
  "language_info": {
   "codemirror_mode": {
    "name": "ipython",
    "version": 3
   },
   "file_extension": ".py",
   "mimetype": "text/x-python",
   "name": "python",
   "nbconvert_exporter": "python",
   "pygments_lexer": "ipython3",
   "version": "3.12.4"
  }
 },
 "nbformat": 4,
 "nbformat_minor": 5
}
